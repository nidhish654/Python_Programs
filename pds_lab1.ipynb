{
 "cells": [
  {
   "cell_type": "code",
   "execution_count": 2,
   "metadata": {},
   "outputs": [],
   "source": [
    "import numpy as np"
   ]
  },
  {
   "cell_type": "markdown",
   "metadata": {},
   "source": [
    "QUESTION 1"
   ]
  },
  {
   "cell_type": "code",
   "execution_count": 5,
   "metadata": {},
   "outputs": [
    {
     "name": "stdout",
     "output_type": "stream",
     "text": [
      "Array From List:  [2.2 3.5 6.8 4.6 5.5]\n",
      "Array From Tuple:  [2.2 3.5 6.8 4.6 5.5]\n"
     ]
    }
   ],
   "source": [
    "my_list = [2.2,3.5,6.8,4.6,5.5]\n",
    "arr_list = np.array(my_list, dtype = float)\n",
    "my_tuple = (2.2,3.5,6.8,4.6,5.5)\n",
    "arr_tuple = np.array(my_tuple, dtype = float)\n",
    "print(\"Array From List: \",arr_list)\n",
    "print(\"Array From Tuple: \",arr_tuple)"
   ]
  },
  {
   "cell_type": "markdown",
   "metadata": {},
   "source": [
    "QUESTION 2"
   ]
  },
  {
   "cell_type": "code",
   "execution_count": 11,
   "metadata": {},
   "outputs": [
    {
     "name": "stdout",
     "output_type": "stream",
     "text": [
      "Slicing Result : [3 4 5 6 7]\n",
      "Indexing Result : [2 4 6]\n",
      "[ True False  True False  True False  True False  True False]\n",
      "Boolean array indexing result: [0 2 4 6 8]\n"
     ]
    }
   ],
   "source": [
    "my_ar = np.array([0,1,2,3,4,5,6,7,8,9])\n",
    "sl = my_ar[3:8]\n",
    "print(\"Slicing Result :\", sl)\n",
    "inde = my_ar[[2,4,6]]\n",
    "print(\"Indexing Result :\", inde)\n",
    "boolean_condition = my_ar % 2 == 0\n",
    "print(boolean_condition)\n",
    "boolean_indexing_result = my_ar[boolean_condition]\n",
    "print(\"Boolean array indexing result:\", boolean_indexing_result)"
   ]
  },
  {
   "cell_type": "markdown",
   "metadata": {},
   "source": [
    "QUESTION 3"
   ]
  },
  {
   "cell_type": "code",
   "execution_count": 3,
   "metadata": {},
   "outputs": [
    {
     "name": "stdout",
     "output_type": "stream",
     "text": [
      "Original Array:  [10  5  8  2  4  9]\n",
      "Min Value:  2\n",
      "Max Value:  10\n",
      "Sum Value:  38\n",
      "Cumulative Sum:  [10 15 23 25 29 38]\n"
     ]
    }
   ],
   "source": [
    "my_array = np.array([10,5,8,2,4,9])\n",
    "min_va = np.min(my_array)\n",
    "max_va = np.max(my_array)\n",
    "sum_va = np.sum(my_array)\n",
    "cumi_va = np.cumsum(my_array)\n",
    "print(\"Original Array: \",my_array)\n",
    "print(\"Min Value: \",min_va)\n",
    "print(\"Max Value: \",max_va)\n",
    "print(\"Sum Value: \",sum_va)\n",
    "print(\"Cumulative Sum: \",cumi_va)"
   ]
  },
  {
   "cell_type": "markdown",
   "metadata": {},
   "source": [
    "QUESTION 4"
   ]
  },
  {
   "cell_type": "code",
   "execution_count": 5,
   "metadata": {},
   "outputs": [
    {
     "name": "stdout",
     "output_type": "stream",
     "text": [
      "Original Array\n",
      "[[1 2 3]\n",
      " [4 5 6]\n",
      " [7 8 9]]\n",
      "Number Of Dimensions (ndim) :  2\n",
      "Shape Of The Array :  (3, 3)\n",
      "Total Number Of Elements (size) :  9\n",
      "Data Type :  int32\n"
     ]
    }
   ],
   "source": [
    "a = np.array([[1,2,3], [4,5,6], [7,8,9]],)\n",
    "sha = a.shape\n",
    "size = a.size\n",
    "dime = a.ndim\n",
    "dattype = a.dtype\n",
    "print(\"Original Array\")\n",
    "print(a)\n",
    "print(\"Number Of Dimensions (ndim) : \",dime)\n",
    "print(\"Shape Of The Array : \", sha)\n",
    "print(\"Total Number Of Elements (size) : \", size)\n",
    "print(\"Data Type : \", dattype)"
   ]
  },
  {
   "cell_type": "markdown",
   "metadata": {},
   "source": [
    "QUESTION CASE STUDY"
   ]
  },
  {
   "cell_type": "code",
   "execution_count": null,
   "metadata": {},
   "outputs": [],
   "source": [
    "stud_a = np.random.randint(0,101,(5,4))\n",
    "print(stud_a)\n",
    "pyth_a = stud_a[0:5,0:1]\n",
    "math_a = stud_a[0:5,1:2]\n",
    "sci_a = stud_a[0:5,2:3]\n",
    "eng_a = stud_a[0:5,3:4]\n",
    "print(\"Python Marks \\n\",pyth_a)\n",
    "print(\"Average of Maths Marks \\n\",np.mean(pyth_a))\n",
    "print(\"Math Marks \\n\",math_a)\n",
    "print(\"Average of Maths Marks \\n\",np.mean(math_a))\n",
    "print(\"Science Marks\\n\",sci_a)\n",
    "print(\"Average of Maths Marks \\n\",np.mean(sci_a))\n",
    "print(\"English Marks\\n\",eng_a)\n",
    "print(\"Average of Maths Marks \\n\",np.mean(eng_a))"
   ]
  },
  {
   "cell_type": "markdown",
   "metadata": {},
   "source": [
    "LAB 2 Numpy Library: Linear Algebra"
   ]
  },
  {
   "cell_type": "code",
   "execution_count": 1,
   "metadata": {},
   "outputs": [],
   "source": [
    "import numpy as np"
   ]
  },
  {
   "cell_type": "markdown",
   "metadata": {},
   "source": [
    "Question 1 : To Find Rank Determinant and Trace"
   ]
  },
  {
   "cell_type": "code",
   "execution_count": null,
   "metadata": {},
   "outputs": [],
   "source": [
    "#input the matrix \n",
    "matrix = np.array([[1,0,0],[0,1,0],[0,0,1]])\n",
    "#calculate the rank of the matrix\n",
    "rank = np.linalg.matrix_rank(matrix)\n",
    "#calculate the determinant of the matrix\n",
    "determinant = np.linalg.det(matrix)\n",
    "# Calculate the trace of the matrix\n",
    "# FYI- the trace of the matrix means its the sum of the elements on its main diagonal, which\n",
    "#runs from the top left to the bottom right of the matrix.\n",
    "trace = np.trace(matrix)\n",
    "# Print the results\n",
    "print(matrix)\n",
    "print(f\"Rank: {rank}\")\n",
    "print(f\"Determinant: {determinant}\")\n",
    "print(f\"Trace: {trace}\")"
   ]
  },
  {
   "cell_type": "markdown",
   "metadata": {},
   "source": [
    "Question 2 : Eigen values of Matrix"
   ]
  },
  {
   "cell_type": "code",
   "execution_count": 11,
   "metadata": {},
   "outputs": [
    {
     "name": "stdout",
     "output_type": "stream",
     "text": [
      "Matrix:\n",
      "[[1 2]\n",
      " [2 3]]\n",
      "Eigenvalues:\n",
      "[-0.23606798  4.23606798]\n"
     ]
    }
   ],
   "source": [
    "#Input the matrix (replace this with your own matrix)\n",
    "matrix = np.array([[1, 2], [2, 3]])\n",
    "#Calculate the eigenvalues of the matrix\n",
    "eigenvalues = np.linalg.eigvals(matrix)\n",
    "#Print the eigenvalues\n",
    "print(\"Matrix:\")\n",
    "print(matrix)\n",
    "print(\"Eigenvalues:\")\n",
    "print(eigenvalues)"
   ]
  },
  {
   "cell_type": "markdown",
   "metadata": {},
   "source": [
    "Question 3 : Matrix and vector products (dot, inner, outer, product), matrix exponentiation"
   ]
  },
  {
   "cell_type": "code",
   "execution_count": null,
   "metadata": {},
   "outputs": [],
   "source": [
    "# Create matrices and vectors (replace these with your own)\n",
    "matrix_A = np.array([[1, 2], [3, 4]])\n",
    "matrix_B = np.array([[5, 6], [7, 8]])\n",
    "vector_x = np.array([1, 2])\n",
    "vector_y = np.array([3, 4])\n",
    "# Dot product of two vectors\n",
    "dot_product = np.dot(vector_x, vector_y)\n",
    "# Inner product (dot product) of two matrices\n",
    "inner_product = np.inner(matrix_A,matrix_B)\n",
    "# Outer product Of two vectors\n",
    "outer_product = np.outer(vector_x,vector_y)\n",
    "# Matrix product (matrix multiplication)\n",
    "matrix_product = np.matmul(matrix_A, matrix_B)\n",
    "# Matrix exponentiation\n",
    "exponent = 2 # Replace with the desired exponent\n",
    "matrix_exponential = np.linalg.matrix_power(matrix_A, exponent)\n",
    "# Print the results\n",
    "print(\"Vector x:\" , vector_x)\n",
    "print(\"Vector y:\" , vector_y)\n",
    "print(\"Matrix A:\")\n",
    "print(matrix_A)\n",
    "print(\"Matrix B:\")\n",
    "print(matrix_B)\n",
    "print(\"Dot product of x and y:\", dot_product)\n",
    "print(\"Inner product of A and B:\")\n",
    "print(inner_product)\n",
    "print(\"Outer product of x and y:\")\n",
    "print(outer_product)\n",
    "print(\"Matrix product of A and B:\")\n",
    "print(matrix_product)\n",
    "print(f\"Matrix A raised to the power {exponent}:\")\n",
    "print(matrix_exponential)"
   ]
  },
  {
   "cell_type": "markdown",
   "metadata": {},
   "source": [
    "Question 4 : Solve a linear matrix equation, or system of linear scalar equations"
   ]
  },
  {
   "cell_type": "code",
   "execution_count": null,
   "metadata": {},
   "outputs": [],
   "source": [
    "# Define the coefficients matrix (A) and the right-hand side vector (b)\n",
    "# Replace these with your own values\n",
    "A = np.array([[2, 1],[1, 3]])\n",
    "b = np.array([3, 9])\n",
    "# Solve the linear system of equations\n",
    "solution = np.linalg.solve(A, b)\n",
    "# Print the solution\n",
    "print(\"Coeffcient matrix (A): \")\n",
    "print(A)\n",
    "print(\"Right-hand side vector (b):\")\n",
    "print(b)\n",
    "print(\"Solution vector (x):\")\n",
    "print(solution)"
   ]
  },
  {
   "cell_type": "markdown",
   "metadata": {},
   "source": [
    "Pandas Library"
   ]
  },
  {
   "cell_type": "code",
   "execution_count": 27,
   "metadata": {},
   "outputs": [],
   "source": [
    "import pandas as pd"
   ]
  },
  {
   "cell_type": "markdown",
   "metadata": {},
   "source": [
    "Question 1 : Implement Pandas Series with Labels"
   ]
  },
  {
   "cell_type": "code",
   "execution_count": 28,
   "metadata": {},
   "outputs": [
    {
     "name": "stdout",
     "output_type": "stream",
     "text": [
      "Pandas Series: \n",
      "A    10\n",
      "B    20\n",
      "C    30\n",
      "D    40\n",
      "dtype: int64\n",
      "\n",
      "Accessing elements by label:\n",
      "Value at label 'A': 10\n",
      "Value at label 'C': 30\n",
      "\n",
      "Accessing elements by position:\n",
      "The First element: 10\n",
      "The second element: 20\n",
      "\n",
      "Arithmetic operations on the Series:\n",
      "Series multiplied by 2:\n",
      "A    20\n",
      "B    40\n",
      "C    60\n",
      "D    80\n",
      "dtype: int64\n",
      "\n",
      "Filtering elements \n",
      "Elememts Greater Than 20:\n",
      "C    30\n",
      "D    40\n",
      "dtype: int64\n"
     ]
    },
    {
     "name": "stderr",
     "output_type": "stream",
     "text": [
      "C:\\Users\\nidhi\\AppData\\Local\\Temp\\ipykernel_16904\\804799052.py:13: FutureWarning: Series.__getitem__ treating keys as positions is deprecated. In a future version, integer keys will always be treated as labels (consistent with DataFrame behavior). To access a value by position, use `ser.iloc[pos]`\n",
      "  print(\"The First element:\", my_series[0])\n",
      "C:\\Users\\nidhi\\AppData\\Local\\Temp\\ipykernel_16904\\804799052.py:14: FutureWarning: Series.__getitem__ treating keys as positions is deprecated. In a future version, integer keys will always be treated as labels (consistent with DataFrame behavior). To access a value by position, use `ser.iloc[pos]`\n",
      "  print(\"The second element:\", my_series[1])\n"
     ]
    }
   ],
   "source": [
    "# Create a pandas Series with labels\n",
    "data = {'A':10,'B':20,'C':30, 'D':40}\n",
    "my_series = pd.Series(data)\n",
    "# Print the Series\n",
    "print(\"Pandas Series: \")\n",
    "print(my_series)\n",
    "# Accessing elements by label\n",
    "print(\"\\nAccessing elements by label:\")\n",
    "print(\"Value at label 'A':\",my_series['A'])\n",
    "print(\"Value at label 'C':\",my_series['C'])\n",
    "# Accessing elements by position\n",
    "print(\"\\nAccessing elements by position:\")\n",
    "print(\"The First element:\", my_series[0])\n",
    "print(\"The second element:\", my_series[1])\n",
    "# Arithmetic operations on the Series\n",
    "print(\"\\nArithmetic operations on the Series:\" )\n",
    "result = my_series * 2\n",
    "print(\"Series multiplied by 2:\")\n",
    "print(result)\n",
    "#Filtering elements\n",
    "print(\"\\nFiltering elements \")\n",
    "filtered_series = my_series[my_series>20]\n",
    "print(\"Elememts Greater Than 20:\")\n",
    "print(filtered_series)"
   ]
  },
  {
   "cell_type": "markdown",
   "metadata": {},
   "source": [
    "Question 2 : Pandas Series From a Dictionary"
   ]
  },
  {
   "cell_type": "code",
   "execution_count": null,
   "metadata": {},
   "outputs": [],
   "source": [
    "# Create a dictionary\n",
    "data_dict = {'Apple': 3, 'Banana': 2, 'Cherry': 5, 'Date': 1}\n",
    "# Create a pandas Series from the dictionary\n",
    "fruits_series = pd.Series(data_dict)\n",
    "# Print the Series\n",
    "print(fruits_series)"
   ]
  },
  {
   "cell_type": "markdown",
   "metadata": {},
   "source": [
    "Question 3 : Pandas DataFrame"
   ]
  },
  {
   "cell_type": "code",
   "execution_count": 39,
   "metadata": {},
   "outputs": [
    {
     "name": "stdout",
     "output_type": "stream",
     "text": [
      "      Name  Age           City\n",
      "0    Alice   25       New York\n",
      "1      Bob   30  San Francisco\n",
      "2  Charlie   35    Los Angeles\n",
      "3    David   40        Chicago\n",
      "\n",
      " 0      Alice\n",
      "1        Bob\n",
      "2    Charlie\n",
      "3      David\n",
      "Name: Name, dtype: object\n"
     ]
    }
   ],
   "source": [
    "# Create a dictionary Of data\n",
    "data = {\n",
    "'Name': ['Alice', 'Bob', 'Charlie', 'David'],\n",
    "'Age': [25, 30, 35, 40],\n",
    "'City': ['New York', 'San Francisco', 'Los Angeles', 'Chicago']\n",
    "}\n",
    "# Create a Pandas DataFrame from the dictionary\n",
    "df = pd.DataFrame(data)\n",
    "# Print the DataFrame\n",
    "print(df)\n",
    "print(\"\\n\",df['Name'])"
   ]
  },
  {
   "cell_type": "markdown",
   "metadata": {},
   "source": [
    "Question 4 : Pandas Methods a.describe() b.head() c.tail()"
   ]
  },
  {
   "cell_type": "code",
   "execution_count": null,
   "metadata": {},
   "outputs": [],
   "source": [
    "# Create a sample DataFrame\n",
    "data = {\n",
    "'Name': ['Alice', 'Bob', 'Charlie', 'David', 'Eve'],\n",
    "'Age': [25, 30, 35, 40, 22],\n",
    "'City': ['New York', 'San Francisco', 'Los Angeles', 'Chicago', 'Miami']\n",
    "}\n",
    "ind = [10,20,30,40,50]\n",
    "df = pd.DataFrame(data,index = ind)\n",
    "print(df)\n",
    "# Use describe() to get summary statistics\n",
    "print(\" DataFrame Statistics (describe()):\")\n",
    "print(df.describe())\n",
    "# Use head() to display the first few rows (default is 5)\n",
    "print(\"\\nFirst 3 rows (head()):\")\n",
    "print(df.head(3))\n",
    "# Use tail() to display the last few rows (default is 5)\n",
    "print(\"\\nLast 2 rows (tail()):\")\n",
    "print(df.tail(2))"
   ]
  }
 ],
 "metadata": {
  "kernelspec": {
   "display_name": "myenv",
   "language": "python",
   "name": "python3"
  },
  "language_info": {
   "codemirror_mode": {
    "name": "ipython",
    "version": 3
   },
   "file_extension": ".py",
   "mimetype": "text/x-python",
   "name": "python",
   "nbconvert_exporter": "python",
   "pygments_lexer": "ipython3",
   "version": "3.11.4"
  },
  "orig_nbformat": 4
 },
 "nbformat": 4,
 "nbformat_minor": 2
}
